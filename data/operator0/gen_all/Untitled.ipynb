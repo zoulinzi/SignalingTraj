{
 "cells": [
  {
   "cell_type": "code",
   "execution_count": 1,
   "id": "b5ace139-0ad1-4353-ad73-6460a7c6d554",
   "metadata": {},
   "outputs": [
    {
     "ename": "TypeError",
     "evalue": "object of type 'int' has no len()",
     "output_type": "error",
     "traceback": [
      "\u001b[0;31m---------------------------------------------------------------------------\u001b[0m",
      "\u001b[0;31mTypeError\u001b[0m                                 Traceback (most recent call last)",
      "\u001b[0;32m/tmp/ipykernel_9038/2189375837.py\u001b[0m in \u001b[0;36m<module>\u001b[0;34m\u001b[0m\n\u001b[1;32m      2\u001b[0m \u001b[0;32mwith\u001b[0m \u001b[0mopen\u001b[0m\u001b[0;34m(\u001b[0m\u001b[0mfile_path\u001b[0m\u001b[0;34m,\u001b[0m \u001b[0;34m'rb'\u001b[0m\u001b[0;34m)\u001b[0m \u001b[0;32mas\u001b[0m \u001b[0mfile\u001b[0m\u001b[0;34m:\u001b[0m  \u001b[0;31m# 'rb'表示以二进制只读模式打开文件\u001b[0m\u001b[0;34m\u001b[0m\u001b[0;34m\u001b[0m\u001b[0m\n\u001b[1;32m      3\u001b[0m     \u001b[0mdata\u001b[0m \u001b[0;34m=\u001b[0m \u001b[0mfile\u001b[0m\u001b[0;34m.\u001b[0m\u001b[0mread\u001b[0m\u001b[0;34m(\u001b[0m\u001b[0;34m)\u001b[0m  \u001b[0;31m# 读取整个文件内容，返回字节串\u001b[0m\u001b[0;34m\u001b[0m\u001b[0;34m\u001b[0m\u001b[0m\n\u001b[0;32m----> 4\u001b[0;31m     \u001b[0mprint\u001b[0m\u001b[0;34m(\u001b[0m\u001b[0mlen\u001b[0m\u001b[0;34m(\u001b[0m\u001b[0mdata\u001b[0m\u001b[0;34m[\u001b[0m\u001b[0;36m30\u001b[0m\u001b[0;34m]\u001b[0m\u001b[0;34m)\u001b[0m\u001b[0;34m)\u001b[0m  \u001b[0;31m# 打印文件前10个字节示例，可按需调整\u001b[0m\u001b[0;34m\u001b[0m\u001b[0;34m\u001b[0m\u001b[0m\n\u001b[0m",
      "\u001b[0;31mTypeError\u001b[0m: object of type 'int' has no len()"
     ]
    }
   ],
   "source": [
    "file_path = 'index_seqs.bin'  # 将此处替换为实际的bin文件路径\n",
    "with open(file_path, 'rb') as file:  # 'rb'表示以二进制只读模式打开文件\n",
    "    data = file.read()  # 读取整个文件内容，返回字节串\n",
    "    print(len(data[30]))  # 打印文件前10个字节示例，可按需调整"
   ]
  },
  {
   "cell_type": "code",
   "execution_count": 4,
   "id": "dbd362b3-fe02-48d8-a538-fc2db88f42f1",
   "metadata": {},
   "outputs": [
    {
     "name": "stdout",
     "output_type": "stream",
     "text": [
      "8\n"
     ]
    }
   ],
   "source": [
    "import pickle\n",
    "\n",
    "# 替换 'data.bin' 为实际的文件路径\n",
    "file_path = 'index_seqs.bin'\n",
    "try:\n",
    "    with open(file_path, 'rb') as file:\n",
    "        # 使用 pickle.load 反序列化文件中的对象\n",
    "        loaded_data = pickle.load(file)\n",
    "        print((data[30]))\n",
    "except FileNotFoundError:\n",
    "    print(f\"文件 {file_path} 未找到。\")\n",
    "except pickle.UnpicklingError:\n",
    "    print(\"文件格式错误，无法反序列化。\")"
   ]
  },
  {
   "cell_type": "code",
   "execution_count": null,
   "id": "cd33585d-8325-49d3-a2f4-d1ac4436d8f1",
   "metadata": {},
   "outputs": [],
   "source": []
  }
 ],
 "metadata": {
  "kernelspec": {
   "display_name": "Python 3 (ipykernel)",
   "language": "python",
   "name": "python3"
  },
  "language_info": {
   "codemirror_mode": {
    "name": "ipython",
    "version": 3
   },
   "file_extension": ".py",
   "mimetype": "text/x-python",
   "name": "python",
   "nbconvert_exporter": "python",
   "pygments_lexer": "ipython3",
   "version": "3.8.10"
  }
 },
 "nbformat": 4,
 "nbformat_minor": 5
}
