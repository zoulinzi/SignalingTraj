{
 "cells": [
  {
   "cell_type": "code",
   "execution_count": 1,
   "id": "5a68f2b3-0d43-4ffe-8e7d-651a628de00f",
   "metadata": {},
   "outputs": [],
   "source": [
    "import pandas as pd\n",
    "import copy\n",
    "import json\n",
    "# 读取轨迹数据\n",
    "df_traj = pd.read_csv(f'../traj_station_handle/df_0.csv')\n",
    "\n",
    "# 读取uli_index_dict.json数据\n",
    "with open(f'/root/autodl-tmp/data/operator0/extra_file/uli_index_dict.json', 'r', encoding='utf-8') as file:\n",
    "    uli_index_dict = json.load(file)"
   ]
  },
  {
   "cell_type": "code",
   "execution_count": 2,
   "id": "0adea586-fb3f-4a31-89c6-903ebe59e763",
   "metadata": {},
   "outputs": [],
   "source": [
    "# 定义映射函数\n",
    "def map_traj_values(traj_list):\n",
    "    return [uli_index_dict.get(uli, uli) for uli in eval(traj_list)]\n",
    "\n",
    "# 应用映射函数并创建新列\n",
    "df_traj['traj_index'] = df_traj['traj'].apply(map_traj_values)"
   ]
  },
  {
   "cell_type": "code",
   "execution_count": 3,
   "id": "98a6a96c-ad42-4d4c-8f1f-91015f3098b6",
   "metadata": {},
   "outputs": [
    {
     "data": {
      "text/html": [
       "<div>\n",
       "<style scoped>\n",
       "    .dataframe tbody tr th:only-of-type {\n",
       "        vertical-align: middle;\n",
       "    }\n",
       "\n",
       "    .dataframe tbody tr th {\n",
       "        vertical-align: top;\n",
       "    }\n",
       "\n",
       "    .dataframe thead th {\n",
       "        text-align: right;\n",
       "    }\n",
       "</style>\n",
       "<table border=\"1\" class=\"dataframe\">\n",
       "  <thead>\n",
       "    <tr style=\"text-align: right;\">\n",
       "      <th></th>\n",
       "      <th>Unnamed: 0</th>\n",
       "      <th>user</th>\n",
       "      <th>day</th>\n",
       "      <th>trajlen</th>\n",
       "      <th>traj</th>\n",
       "      <th>timestamps</th>\n",
       "      <th>traj_index</th>\n",
       "    </tr>\n",
       "  </thead>\n",
       "  <tbody>\n",
       "    <tr>\n",
       "      <th>0</th>\n",
       "      <td>39</td>\n",
       "      <td>a8341179bb6cc</td>\n",
       "      <td>20241001</td>\n",
       "      <td>32</td>\n",
       "      <td>['0-4-128089867', '0-4-126402305', '0-4-126409...</td>\n",
       "      <td>[1727748066, 1727748085, 1727748198, 172774827...</td>\n",
       "      <td>[2581, 2212, 2237, 1700, 1694, 883, 1362, 756,...</td>\n",
       "    </tr>\n",
       "    <tr>\n",
       "      <th>1</th>\n",
       "      <td>66</td>\n",
       "      <td>a83411893676c</td>\n",
       "      <td>20241005</td>\n",
       "      <td>31</td>\n",
       "      <td>['0-4-126079489', '0-4-10693890', '0-4-1259274...</td>\n",
       "      <td>[1728104873, 1728104886, 1728104888, 172810489...</td>\n",
       "      <td>[1359, 480, 888, 2895, 1359, 885, 1695, 1698, ...</td>\n",
       "    </tr>\n",
       "    <tr>\n",
       "      <th>2</th>\n",
       "      <td>112</td>\n",
       "      <td>a834118c36b65</td>\n",
       "      <td>20241003</td>\n",
       "      <td>36</td>\n",
       "      <td>['0-4-132125662', '0-4-17564055', '0-4-1262261...</td>\n",
       "      <td>[1727920865, 1727920876, 1727920878, 172792129...</td>\n",
       "      <td>[3249, 4450, 1780, 4409, 4703, 5859, 3249, 177...</td>\n",
       "    </tr>\n",
       "    <tr>\n",
       "      <th>3</th>\n",
       "      <td>152</td>\n",
       "      <td>a834118c43a7a</td>\n",
       "      <td>20241006</td>\n",
       "      <td>62</td>\n",
       "      <td>['0-4-132211698', '0-4-17285513', '0-4-1728550...</td>\n",
       "      <td>[1728202111, 1728202263, 1728202310, 172820231...</td>\n",
       "      <td>[3270, 4198, 4195, 493, 4258, 4172, 422, 318, ...</td>\n",
       "    </tr>\n",
       "    <tr>\n",
       "      <th>4</th>\n",
       "      <td>170</td>\n",
       "      <td>a834118c45c96</td>\n",
       "      <td>20241004</td>\n",
       "      <td>31</td>\n",
       "      <td>['0-4-202709165', '0-4-202709125', '0-4-174882...</td>\n",
       "      <td>[1728039682, 1728039730, 1728039924, 172804008...</td>\n",
       "      <td>[5050, 5047, 4418, 4421, 643, 648, 3574, 894, ...</td>\n",
       "    </tr>\n",
       "  </tbody>\n",
       "</table>\n",
       "</div>"
      ],
      "text/plain": [
       "   Unnamed: 0           user       day  trajlen  \\\n",
       "0          39  a8341179bb6cc  20241001       32   \n",
       "1          66  a83411893676c  20241005       31   \n",
       "2         112  a834118c36b65  20241003       36   \n",
       "3         152  a834118c43a7a  20241006       62   \n",
       "4         170  a834118c45c96  20241004       31   \n",
       "\n",
       "                                                traj  \\\n",
       "0  ['0-4-128089867', '0-4-126402305', '0-4-126409...   \n",
       "1  ['0-4-126079489', '0-4-10693890', '0-4-1259274...   \n",
       "2  ['0-4-132125662', '0-4-17564055', '0-4-1262261...   \n",
       "3  ['0-4-132211698', '0-4-17285513', '0-4-1728550...   \n",
       "4  ['0-4-202709165', '0-4-202709125', '0-4-174882...   \n",
       "\n",
       "                                          timestamps  \\\n",
       "0  [1727748066, 1727748085, 1727748198, 172774827...   \n",
       "1  [1728104873, 1728104886, 1728104888, 172810489...   \n",
       "2  [1727920865, 1727920876, 1727920878, 172792129...   \n",
       "3  [1728202111, 1728202263, 1728202310, 172820231...   \n",
       "4  [1728039682, 1728039730, 1728039924, 172804008...   \n",
       "\n",
       "                                          traj_index  \n",
       "0  [2581, 2212, 2237, 1700, 1694, 883, 1362, 756,...  \n",
       "1  [1359, 480, 888, 2895, 1359, 885, 1695, 1698, ...  \n",
       "2  [3249, 4450, 1780, 4409, 4703, 5859, 3249, 177...  \n",
       "3  [3270, 4198, 4195, 493, 4258, 4172, 422, 318, ...  \n",
       "4  [5050, 5047, 4418, 4421, 643, 648, 3574, 894, ...  "
      ]
     },
     "execution_count": 3,
     "metadata": {},
     "output_type": "execute_result"
    }
   ],
   "source": [
    "df_traj.head()"
   ]
  },
  {
   "cell_type": "code",
   "execution_count": 15,
   "id": "3b2438a8-fda9-489d-a4db-7d16408d25ad",
   "metadata": {},
   "outputs": [],
   "source": [
    "all_transitions = []\n",
    "prev_end = None\n",
    "for _, row in df_traj.iterrows():\n",
    "    traj_seq = row['traj_index']\n",
    "    if prev_end is not None:\n",
    "        all_transitions.append((prev_end, traj_seq[0]))\n",
    "    for i in range(len(traj_seq) - 1):\n",
    "        transition = (traj_seq[i], traj_seq[i + 1])\n",
    "        all_transitions.append(transition)\n",
    "    prev_end = traj_seq[-1]\n",
    "\n",
    "unique_transitions = set(all_transitions)\n",
    "unique_transitions_list = list(unique_transitions)"
   ]
  },
  {
   "cell_type": "code",
   "execution_count": 16,
   "id": "97cffda4-5779-4e40-a7cb-885b03273534",
   "metadata": {},
   "outputs": [
    {
     "name": "stdout",
     "output_type": "stream",
     "text": [
      "[(586, 3656), (257, 4878), (4882, 1219), (2867, 3719), (4543, 1753), (2232, 2979), (1091, 2825), (31, 2845), (683, 556), (2949, 6003)]\n"
     ]
    }
   ],
   "source": [
    "print(unique_transitions_list[:10])"
   ]
  },
  {
   "cell_type": "code",
   "execution_count": 17,
   "id": "61654eff-d367-47ea-9ac6-7e1c8042a236",
   "metadata": {},
   "outputs": [],
   "source": [
    "# 写入vgae的txt文件\n",
    "with open('../vgae/transitions.txt', 'w', encoding='utf-8') as file:\n",
    "    for trans in unique_transitions_list:\n",
    "        file.write(f\"{trans[0]} {trans[1]}\\n\")"
   ]
  },
  {
   "cell_type": "code",
   "execution_count": null,
   "id": "8a6ffb4d-48a9-4c33-8f27-bb816ed7a35b",
   "metadata": {},
   "outputs": [],
   "source": [
    "# 写入node2vec的txt文件\n",
    "with open('transitions_weight.txt', 'w', encoding='utf-8') as file:\n",
    "    for trans in unique_transitions_list:\n",
    "        file.write(f\"{trans[0]} {trans[1]} 1\\n\")"
   ]
  }
 ],
 "metadata": {
  "kernelspec": {
   "display_name": "Python 3 (ipykernel)",
   "language": "python",
   "name": "python3"
  },
  "language_info": {
   "codemirror_mode": {
    "name": "ipython",
    "version": 3
   },
   "file_extension": ".py",
   "mimetype": "text/x-python",
   "name": "python",
   "nbconvert_exporter": "python",
   "pygments_lexer": "ipython3",
   "version": "3.8.10"
  }
 },
 "nbformat": 4,
 "nbformat_minor": 5
}
