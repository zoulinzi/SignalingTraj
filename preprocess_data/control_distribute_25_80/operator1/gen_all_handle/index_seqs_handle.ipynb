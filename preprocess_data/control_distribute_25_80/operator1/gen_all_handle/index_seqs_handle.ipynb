{
 "cells": [
  {
   "cell_type": "code",
   "execution_count": 1,
   "id": "da786bda-40ba-4a2c-b492-7fab068706c3",
   "metadata": {},
   "outputs": [],
   "source": [
    "import pandas as pd\n",
    "import copy\n",
    "import json\n",
    "# 读取轨迹数据\n",
    "df_traj = pd.read_csv(f'../traj_station_handle/df_1.csv')\n",
    "\n",
    "# 读取uli_index_dict.json数据\n",
    "with open(f'/root/autodl-tmp/data/operator1/extra_file/uli_index_dict.json', 'r', encoding='utf-8') as file:\n",
    "    uli_index_dict = json.load(file)"
   ]
  },
  {
   "cell_type": "code",
   "execution_count": 2,
   "id": "67fb682d-c3fd-4d11-932c-435d4f19e647",
   "metadata": {},
   "outputs": [
    {
     "data": {
      "text/html": [
       "<div>\n",
       "<style scoped>\n",
       "    .dataframe tbody tr th:only-of-type {\n",
       "        vertical-align: middle;\n",
       "    }\n",
       "\n",
       "    .dataframe tbody tr th {\n",
       "        vertical-align: top;\n",
       "    }\n",
       "\n",
       "    .dataframe thead th {\n",
       "        text-align: right;\n",
       "    }\n",
       "</style>\n",
       "<table border=\"1\" class=\"dataframe\">\n",
       "  <thead>\n",
       "    <tr style=\"text-align: right;\">\n",
       "      <th></th>\n",
       "      <th>Unnamed: 0</th>\n",
       "      <th>user</th>\n",
       "      <th>day</th>\n",
       "      <th>trajlen</th>\n",
       "      <th>traj</th>\n",
       "      <th>timestamps</th>\n",
       "    </tr>\n",
       "  </thead>\n",
       "  <tbody>\n",
       "    <tr>\n",
       "      <th>0</th>\n",
       "      <td>0</td>\n",
       "      <td>a834114368c86</td>\n",
       "      <td>20241001</td>\n",
       "      <td>37</td>\n",
       "      <td>['1-4-188065331', '1-4-178850055', '1-4-178730...</td>\n",
       "      <td>[1727784045, 1727784055, 1727784088, 172778409...</td>\n",
       "    </tr>\n",
       "    <tr>\n",
       "      <th>1</th>\n",
       "      <td>1</td>\n",
       "      <td>a834114543b5d</td>\n",
       "      <td>20241007</td>\n",
       "      <td>47</td>\n",
       "      <td>['1-4-178470403', '1-4-178333441', '1-4-178422...</td>\n",
       "      <td>[1728230521, 1728230563, 1728230678, 172823070...</td>\n",
       "    </tr>\n",
       "    <tr>\n",
       "      <th>2</th>\n",
       "      <td>2</td>\n",
       "      <td>a834114566e99</td>\n",
       "      <td>20241005</td>\n",
       "      <td>32</td>\n",
       "      <td>['1-4-49946371', '1-4-49946113', '1-4-49945604...</td>\n",
       "      <td>[1728117651, 1728117684, 1728117746, 172811780...</td>\n",
       "    </tr>\n",
       "    <tr>\n",
       "      <th>3</th>\n",
       "      <td>3</td>\n",
       "      <td>a8341145bbdd6</td>\n",
       "      <td>20241004</td>\n",
       "      <td>36</td>\n",
       "      <td>['1-4-179193858', '1-4-178279427', '1-4-178917...</td>\n",
       "      <td>[1728015006, 1728015010, 1728015016, 172801503...</td>\n",
       "    </tr>\n",
       "    <tr>\n",
       "      <th>4</th>\n",
       "      <td>4</td>\n",
       "      <td>a83411464ae86</td>\n",
       "      <td>20241007</td>\n",
       "      <td>32</td>\n",
       "      <td>['1-4-188067383', '1-4-178295297', '1-4-473629...</td>\n",
       "      <td>[1728299383, 1728299695, 1728299726, 172829991...</td>\n",
       "    </tr>\n",
       "  </tbody>\n",
       "</table>\n",
       "</div>"
      ],
      "text/plain": [
       "   Unnamed: 0           user       day  trajlen  \\\n",
       "0           0  a834114368c86  20241001       37   \n",
       "1           1  a834114543b5d  20241007       47   \n",
       "2           2  a834114566e99  20241005       32   \n",
       "3           3  a8341145bbdd6  20241004       36   \n",
       "4           4  a83411464ae86  20241007       32   \n",
       "\n",
       "                                                traj  \\\n",
       "0  ['1-4-188065331', '1-4-178850055', '1-4-178730...   \n",
       "1  ['1-4-178470403', '1-4-178333441', '1-4-178422...   \n",
       "2  ['1-4-49946371', '1-4-49946113', '1-4-49945604...   \n",
       "3  ['1-4-179193858', '1-4-178279427', '1-4-178917...   \n",
       "4  ['1-4-188067383', '1-4-178295297', '1-4-473629...   \n",
       "\n",
       "                                          timestamps  \n",
       "0  [1727784045, 1727784055, 1727784088, 172778409...  \n",
       "1  [1728230521, 1728230563, 1728230678, 172823070...  \n",
       "2  [1728117651, 1728117684, 1728117746, 172811780...  \n",
       "3  [1728015006, 1728015010, 1728015016, 172801503...  \n",
       "4  [1728299383, 1728299695, 1728299726, 172829991...  "
      ]
     },
     "execution_count": 2,
     "metadata": {},
     "output_type": "execute_result"
    }
   ],
   "source": [
    "df_traj.head()"
   ]
  },
  {
   "cell_type": "code",
   "execution_count": 3,
   "id": "0f399721-bcfc-42c1-8eeb-440a1071efb0",
   "metadata": {},
   "outputs": [],
   "source": [
    "result_dict = {}\n",
    "for _, row in df_traj.iterrows():\n",
    "    trajlen = row['trajlen']\n",
    "    mapped_traj = [uli_index_dict.get(uli, uli) for uli in eval(row['traj'])]\n",
    "    if trajlen not in result_dict:\n",
    "        result_dict[trajlen] = [mapped_traj]\n",
    "    else:\n",
    "        result_dict[trajlen].append(mapped_traj)"
   ]
  },
  {
   "cell_type": "code",
   "execution_count": 29,
   "id": "5106b1a2-82a6-496b-be2a-7a043c722d96",
   "metadata": {},
   "outputs": [
    {
     "name": "stdout",
     "output_type": "stream",
     "text": [
      "27136\n"
     ]
    }
   ],
   "source": [
    "print(len(result_dict[30]))"
   ]
  },
  {
   "cell_type": "code",
   "execution_count": 4,
   "id": "2c1594b1-5652-4fb4-aeab-97309cae3eb1",
   "metadata": {},
   "outputs": [],
   "source": [
    "import pickle\n",
    "# 保存字典到bin文件\n",
    "with open(f'/root/autodl-tmp/data/operator1/gen_all/index_seqs.bin', 'wb') as file:\n",
    "    pickle.dump(result_dict, file)"
   ]
  },
  {
   "cell_type": "code",
   "execution_count": null,
   "id": "1ba753e7-317b-46e4-80d1-f6a5ebdbbc4b",
   "metadata": {},
   "outputs": [],
   "source": []
  }
 ],
 "metadata": {
  "kernelspec": {
   "display_name": "Python 3 (ipykernel)",
   "language": "python",
   "name": "python3"
  },
  "language_info": {
   "codemirror_mode": {
    "name": "ipython",
    "version": 3
   },
   "file_extension": ".py",
   "mimetype": "text/x-python",
   "name": "python",
   "nbconvert_exporter": "python",
   "pygments_lexer": "ipython3",
   "version": "3.8.10"
  }
 },
 "nbformat": 4,
 "nbformat_minor": 5
}
