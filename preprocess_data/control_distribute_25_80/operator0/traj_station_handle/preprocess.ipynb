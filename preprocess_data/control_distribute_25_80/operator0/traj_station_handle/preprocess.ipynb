{
 "cells": [
  {
   "cell_type": "markdown",
   "id": "7bb4255a-2097-4fe0-8da0-e9e42ec9413c",
   "metadata": {},
   "source": [
    "# 从原始数据开始预处理数据，轨迹保留长度为20-100，基站保留次数 > 30"
   ]
  },
  {
   "cell_type": "code",
   "execution_count": 63,
   "id": "ff001d25-1734-4d88-a853-c2d267014206",
   "metadata": {},
   "outputs": [],
   "source": [
    "import pandas as pd\n",
    "import copy\n",
    "\n",
    "# 读取轨迹数据\n",
    "df_traj = pd.read_csv(f'/root/autodl-tmp/preprocess_data/original_data/t_dwt_person.csv')\n",
    "# 读取基站数据\n",
    "df_bs = pd.read_csv(f'/root/autodl-tmp/preprocess_data/original_data/t_dwt_uli_new_20250207.csv')\n"
   ]
  },
  {
   "cell_type": "code",
   "execution_count": 65,
   "id": "e93c3dd5-73e4-411e-b9d5-c94b1607a7b8",
   "metadata": {},
   "outputs": [
    {
     "data": {
      "text/html": [
       "<div>\n",
       "<style scoped>\n",
       "    .dataframe tbody tr th:only-of-type {\n",
       "        vertical-align: middle;\n",
       "    }\n",
       "\n",
       "    .dataframe tbody tr th {\n",
       "        vertical-align: top;\n",
       "    }\n",
       "\n",
       "    .dataframe thead th {\n",
       "        text-align: right;\n",
       "    }\n",
       "</style>\n",
       "<table border=\"1\" class=\"dataframe\">\n",
       "  <thead>\n",
       "    <tr style=\"text-align: right;\">\n",
       "      <th></th>\n",
       "      <th>c_number</th>\n",
       "      <th>c_uli</th>\n",
       "      <th>c_timestamp</th>\n",
       "      <th>c_day</th>\n",
       "    </tr>\n",
       "  </thead>\n",
       "  <tbody>\n",
       "    <tr>\n",
       "      <th>0</th>\n",
       "      <td>a83411464ae86</td>\n",
       "      <td>1-4-178293763</td>\n",
       "      <td>1.728301e+09</td>\n",
       "      <td>20241007.0</td>\n",
       "    </tr>\n",
       "    <tr>\n",
       "      <th>1</th>\n",
       "      <td>a83411464ae86</td>\n",
       "      <td>1-4-178293770</td>\n",
       "      <td>1.728302e+09</td>\n",
       "      <td>20241007.0</td>\n",
       "    </tr>\n",
       "    <tr>\n",
       "      <th>2</th>\n",
       "      <td>a83411464ae86</td>\n",
       "      <td>1-4-178555139</td>\n",
       "      <td>1.728301e+09</td>\n",
       "      <td>20241007.0</td>\n",
       "    </tr>\n",
       "    <tr>\n",
       "      <th>3</th>\n",
       "      <td>a83411464ae86</td>\n",
       "      <td>1-4-178555148</td>\n",
       "      <td>1.728302e+09</td>\n",
       "      <td>20241007.0</td>\n",
       "    </tr>\n",
       "    <tr>\n",
       "      <th>4</th>\n",
       "      <td>a83411464ae86</td>\n",
       "      <td>1-4-178964740</td>\n",
       "      <td>1.728302e+09</td>\n",
       "      <td>20241007.0</td>\n",
       "    </tr>\n",
       "  </tbody>\n",
       "</table>\n",
       "</div>"
      ],
      "text/plain": [
       "        c_number          c_uli   c_timestamp       c_day\n",
       "0  a83411464ae86  1-4-178293763  1.728301e+09  20241007.0\n",
       "1  a83411464ae86  1-4-178293770  1.728302e+09  20241007.0\n",
       "2  a83411464ae86  1-4-178555139  1.728301e+09  20241007.0\n",
       "3  a83411464ae86  1-4-178555148  1.728302e+09  20241007.0\n",
       "4  a83411464ae86  1-4-178964740  1.728302e+09  20241007.0"
      ]
     },
     "execution_count": 65,
     "metadata": {},
     "output_type": "execute_result"
    }
   ],
   "source": [
    "df_traj.head()"
   ]
  },
  {
   "cell_type": "code",
   "execution_count": 66,
   "id": "a6be7dbf-26db-432c-9d29-2fcd6f4a8fee",
   "metadata": {},
   "outputs": [],
   "source": [
    "# 统计c_uli列中每个值出现的次数\n",
    "count_result = df_traj['c_uli'].value_counts()\n",
    "\n",
    "# 筛选出出现次数≥30的值\n",
    "filtered_result = count_result[count_result >= 30]\n",
    "\n",
    "# 在df_traj中筛选出c_uli列的值在filtered_values中的行\n",
    "df_traj_fliter_station = copy.copy(df_traj)\n",
    "\n",
    "# 使用filtered_result的索引进行筛选\n",
    "df_traj_fliter_station= df_traj_fliter_station[df_traj_fliter_station['c_uli'].isin(filtered_result.index)]"
   ]
  },
  {
   "cell_type": "code",
   "execution_count": 67,
   "id": "ad318db9-a52e-4040-a1ee-564ffb56045c",
   "metadata": {},
   "outputs": [
    {
     "name": "stdout",
     "output_type": "stream",
     "text": [
      "<class 'pandas.core.frame.DataFrame'>\n",
      "Index: 20391718 entries, 0 to 20542273\n",
      "Data columns (total 4 columns):\n",
      " #   Column       Dtype  \n",
      "---  ------       -----  \n",
      " 0   c_number     object \n",
      " 1   c_uli        object \n",
      " 2   c_timestamp  float64\n",
      " 3   c_day        float64\n",
      "dtypes: float64(2), object(2)\n",
      "memory usage: 777.9+ MB\n"
     ]
    }
   ],
   "source": [
    "traj_fliter_station_df.info()"
   ]
  },
  {
   "cell_type": "code",
   "execution_count": 79,
   "id": "5b28e824-cd03-4940-8ce7-408e1af59234",
   "metadata": {},
   "outputs": [],
   "source": [
    "# 假设traj_fliter_station_df是你当前的DataFrame\n",
    "grouped = df_traj_fliter_station.groupby(['c_number', 'c_day'])\n",
    "\n",
    "filtered_groups = []\n",
    "for group_key, group_data in grouped:\n",
    "    group_length = len(group_data)\n",
    "    if 25 <= group_length <= 80:\n",
    "        filtered_groups.append(group_data)\n",
    "\n",
    "control_traj_df = pd.concat(filtered_groups, ignore_index=True)"
   ]
  },
  {
   "cell_type": "code",
   "execution_count": 80,
   "id": "8849a2a3-91a6-4f31-ac63-fe2e2a980f10",
   "metadata": {},
   "outputs": [
    {
     "name": "stdout",
     "output_type": "stream",
     "text": [
      "<class 'pandas.core.frame.DataFrame'>\n",
      "RangeIndex: 18826944 entries, 0 to 18826943\n",
      "Data columns (total 4 columns):\n",
      " #   Column       Dtype  \n",
      "---  ------       -----  \n",
      " 0   c_number     object \n",
      " 1   c_uli        object \n",
      " 2   c_timestamp  float64\n",
      " 3   c_day        float64\n",
      "dtypes: float64(2), object(2)\n",
      "memory usage: 574.6+ MB\n"
     ]
    }
   ],
   "source": [
    "control_traj_df.info()"
   ]
  },
  {
   "cell_type": "code",
   "execution_count": 84,
   "id": "ab627cf7-f24d-4472-a93a-81d20367a9b8",
   "metadata": {},
   "outputs": [],
   "source": [
    "# 筛选轨迹中所有出现过的c_uli\n",
    "traj_uli_list = control_traj_df['c_uli'].unique().tolist()\n",
    "# 最后对基站文件进行过筛\n",
    "final_df_bs = df_bs[df_bs['c_uli'].isin(traj_uli_list)]"
   ]
  },
  {
   "cell_type": "code",
   "execution_count": 85,
   "id": "5bde75a7-9122-4fc4-a6d7-6692a9cf9630",
   "metadata": {},
   "outputs": [
    {
     "name": "stdout",
     "output_type": "stream",
     "text": [
      "<class 'pandas.core.frame.DataFrame'>\n",
      "Index: 19351 entries, 0 to 43251\n",
      "Data columns (total 6 columns):\n",
      " #   Column      Non-Null Count  Dtype  \n",
      "---  ------      --------------  -----  \n",
      " 0   c_uli       19351 non-null  object \n",
      " 1   c_lac       19351 non-null  int64  \n",
      " 2   c_ci        19351 non-null  int64  \n",
      " 3   c_areacode  19351 non-null  int64  \n",
      " 4   c_lat       19351 non-null  float64\n",
      " 5   c_lon       19351 non-null  float64\n",
      "dtypes: float64(2), int64(3), object(1)\n",
      "memory usage: 1.0+ MB\n"
     ]
    }
   ],
   "source": [
    "final_df_bs.info()"
   ]
  },
  {
   "cell_type": "code",
   "execution_count": 88,
   "id": "11626c85-35e1-465a-9ebd-c6892685aabc",
   "metadata": {},
   "outputs": [],
   "source": [
    "new_data = []\n",
    "for (c_number, c_day), group in grouped:\n",
    "    sorted_group = group.sort_values('c_timestamp')\n",
    "    traj = list(zip(sorted_group['c_uli'], sorted_group['c_timestamp']))\n",
    "    new_data.append([c_number, c_day, traj])\n",
    "\n",
    "final_traj_df = pd.DataFrame(new_data, columns=['c_number', 'c_day', 'traj'])"
   ]
  },
  {
   "cell_type": "code",
   "execution_count": 90,
   "id": "670d2c5b-6fb9-4762-ad3b-afb102e745e3",
   "metadata": {},
   "outputs": [
    {
     "data": {
      "text/html": [
       "<div>\n",
       "<style scoped>\n",
       "    .dataframe tbody tr th:only-of-type {\n",
       "        vertical-align: middle;\n",
       "    }\n",
       "\n",
       "    .dataframe tbody tr th {\n",
       "        vertical-align: top;\n",
       "    }\n",
       "\n",
       "    .dataframe thead th {\n",
       "        text-align: right;\n",
       "    }\n",
       "</style>\n",
       "<table border=\"1\" class=\"dataframe\">\n",
       "  <thead>\n",
       "    <tr style=\"text-align: right;\">\n",
       "      <th></th>\n",
       "      <th>c_number</th>\n",
       "      <th>c_day</th>\n",
       "      <th>traj</th>\n",
       "    </tr>\n",
       "  </thead>\n",
       "  <tbody>\n",
       "    <tr>\n",
       "      <th>0</th>\n",
       "      <td>a83411464ae86</td>\n",
       "      <td>20241007.0</td>\n",
       "      <td>[(1-4-188067383, 1728299383.0), (1-4-178295297...</td>\n",
       "    </tr>\n",
       "    <tr>\n",
       "      <th>1</th>\n",
       "      <td>a834114664ee7</td>\n",
       "      <td>20241002.0</td>\n",
       "      <td>[(1-4-188082491, 1727838016.0), (1-4-28465970,...</td>\n",
       "    </tr>\n",
       "    <tr>\n",
       "      <th>2</th>\n",
       "      <td>a8341147567ec</td>\n",
       "      <td>20241004.0</td>\n",
       "      <td>[(1-4-47212938, 1727976536.0), (1-4-50118919, ...</td>\n",
       "    </tr>\n",
       "    <tr>\n",
       "      <th>3</th>\n",
       "      <td>a834114b8bbb6</td>\n",
       "      <td>20241007.0</td>\n",
       "      <td>[(1-4-179201540, 1728289258.0), (1-4-47262898,...</td>\n",
       "    </tr>\n",
       "    <tr>\n",
       "      <th>4</th>\n",
       "      <td>a834114c44dee</td>\n",
       "      <td>20241004.0</td>\n",
       "      <td>[(3-4-179006730, 1728007295.0), (3-4-178665730...</td>\n",
       "    </tr>\n",
       "  </tbody>\n",
       "</table>\n",
       "</div>"
      ],
      "text/plain": [
       "        c_number       c_day  \\\n",
       "0  a83411464ae86  20241007.0   \n",
       "1  a834114664ee7  20241002.0   \n",
       "2  a8341147567ec  20241004.0   \n",
       "3  a834114b8bbb6  20241007.0   \n",
       "4  a834114c44dee  20241004.0   \n",
       "\n",
       "                                                traj  \n",
       "0  [(1-4-188067383, 1728299383.0), (1-4-178295297...  \n",
       "1  [(1-4-188082491, 1727838016.0), (1-4-28465970,...  \n",
       "2  [(1-4-47212938, 1727976536.0), (1-4-50118919, ...  \n",
       "3  [(1-4-179201540, 1728289258.0), (1-4-47262898,...  \n",
       "4  [(3-4-179006730, 1728007295.0), (3-4-178665730...  "
      ]
     },
     "execution_count": 90,
     "metadata": {},
     "output_type": "execute_result"
    }
   ],
   "source": [
    "final_traj_df.head()"
   ]
  },
  {
   "cell_type": "code",
   "execution_count": 91,
   "id": "0b903166-0148-4df9-8be8-146d8067776d",
   "metadata": {},
   "outputs": [
    {
     "name": "stdout",
     "output_type": "stream",
     "text": [
      "<class 'pandas.core.frame.DataFrame'>\n",
      "Index: 19351 entries, 0 to 43251\n",
      "Data columns (total 6 columns):\n",
      " #   Column      Non-Null Count  Dtype  \n",
      "---  ------      --------------  -----  \n",
      " 0   c_uli       19351 non-null  object \n",
      " 1   c_lac       19351 non-null  int64  \n",
      " 2   c_ci        19351 non-null  int64  \n",
      " 3   c_areacode  19351 non-null  int64  \n",
      " 4   c_lat       19351 non-null  float64\n",
      " 5   c_lon       19351 non-null  float64\n",
      "dtypes: float64(2), int64(3), object(1)\n",
      "memory usage: 1.0+ MB\n"
     ]
    }
   ],
   "source": [
    "final_df_bs.info()"
   ]
  },
  {
   "cell_type": "code",
   "execution_count": null,
   "id": "8a7018b9-3348-4f3c-afb0-f7294bbcd06c",
   "metadata": {},
   "outputs": [],
   "source": []
  }
 ],
 "metadata": {
  "kernelspec": {
   "display_name": "Python 3 (ipykernel)",
   "language": "python",
   "name": "python3"
  },
  "language_info": {
   "codemirror_mode": {
    "name": "ipython",
    "version": 3
   },
   "file_extension": ".py",
   "mimetype": "text/x-python",
   "name": "python",
   "nbconvert_exporter": "python",
   "pygments_lexer": "ipython3",
   "version": "3.8.10"
  }
 },
 "nbformat": 4,
 "nbformat_minor": 5
}
