{
 "cells": [
  {
   "cell_type": "markdown",
   "id": "7bb4255a-2097-4fe0-8da0-e9e42ec9413c",
   "metadata": {},
   "source": [
    "# 从原始数据开始预处理数据，轨迹保留长度为20-100，基站保留次数 > 30"
   ]
  },
  {
   "cell_type": "code",
   "execution_count": null,
   "id": "ff001d25-1734-4d88-a853-c2d267014206",
   "metadata": {},
   "outputs": [],
   "source": [
    "import pandas as pd\n",
    "\n",
    "# 读取轨迹数据\n",
    "df_traj = pd.read_csv(f'/root/autodl-tmp/preprocess_data/original_data/t_dwt_person.csv')\n",
    "# 读取基站数据\n",
    "df_bs = pd.read_csv(f'/root/autodl-tmp/preprocess_data/original_data/t_dwt_uli_new_20250207.csv')\n"
   ]
  },
  {
   "cell_type": "code",
   "execution_count": 24,
   "id": "8b516d82-fb41-4dbb-a8ae-56ec131da900",
   "metadata": {},
   "outputs": [
    {
     "name": "stdout",
     "output_type": "stream",
     "text": [
      "43456\n"
     ]
    }
   ],
   "source": [
    "print(df_bs.shape[0])"
   ]
  },
  {
   "cell_type": "code",
   "execution_count": 25,
   "id": "e93c3dd5-73e4-411e-b9d5-c94b1607a7b8",
   "metadata": {},
   "outputs": [
    {
     "data": {
      "text/html": [
       "<div>\n",
       "<style scoped>\n",
       "    .dataframe tbody tr th:only-of-type {\n",
       "        vertical-align: middle;\n",
       "    }\n",
       "\n",
       "    .dataframe tbody tr th {\n",
       "        vertical-align: top;\n",
       "    }\n",
       "\n",
       "    .dataframe thead th {\n",
       "        text-align: right;\n",
       "    }\n",
       "</style>\n",
       "<table border=\"1\" class=\"dataframe\">\n",
       "  <thead>\n",
       "    <tr style=\"text-align: right;\">\n",
       "      <th></th>\n",
       "      <th>c_number</th>\n",
       "      <th>c_uli</th>\n",
       "      <th>c_timestamp</th>\n",
       "      <th>c_day</th>\n",
       "    </tr>\n",
       "  </thead>\n",
       "  <tbody>\n",
       "    <tr>\n",
       "      <th>0</th>\n",
       "      <td>a83411464ae86</td>\n",
       "      <td>1-4-178293763</td>\n",
       "      <td>1.728301e+09</td>\n",
       "      <td>20241007.0</td>\n",
       "    </tr>\n",
       "    <tr>\n",
       "      <th>1</th>\n",
       "      <td>a83411464ae86</td>\n",
       "      <td>1-4-178293770</td>\n",
       "      <td>1.728302e+09</td>\n",
       "      <td>20241007.0</td>\n",
       "    </tr>\n",
       "    <tr>\n",
       "      <th>2</th>\n",
       "      <td>a83411464ae86</td>\n",
       "      <td>1-4-178555139</td>\n",
       "      <td>1.728301e+09</td>\n",
       "      <td>20241007.0</td>\n",
       "    </tr>\n",
       "    <tr>\n",
       "      <th>3</th>\n",
       "      <td>a83411464ae86</td>\n",
       "      <td>1-4-178555148</td>\n",
       "      <td>1.728302e+09</td>\n",
       "      <td>20241007.0</td>\n",
       "    </tr>\n",
       "    <tr>\n",
       "      <th>4</th>\n",
       "      <td>a83411464ae86</td>\n",
       "      <td>1-4-178964740</td>\n",
       "      <td>1.728302e+09</td>\n",
       "      <td>20241007.0</td>\n",
       "    </tr>\n",
       "  </tbody>\n",
       "</table>\n",
       "</div>"
      ],
      "text/plain": [
       "        c_number          c_uli   c_timestamp       c_day\n",
       "0  a83411464ae86  1-4-178293763  1.728301e+09  20241007.0\n",
       "1  a83411464ae86  1-4-178293770  1.728302e+09  20241007.0\n",
       "2  a83411464ae86  1-4-178555139  1.728301e+09  20241007.0\n",
       "3  a83411464ae86  1-4-178555148  1.728302e+09  20241007.0\n",
       "4  a83411464ae86  1-4-178964740  1.728302e+09  20241007.0"
      ]
     },
     "execution_count": 25,
     "metadata": {},
     "output_type": "execute_result"
    }
   ],
   "source": [
    "df_traj.head()"
   ]
  },
  {
   "cell_type": "code",
   "execution_count": 20,
   "id": "a6be7dbf-26db-432c-9d29-2fcd6f4a8fee",
   "metadata": {},
   "outputs": [],
   "source": [
    "# 统计c_uli列中每个值出现的次数\n",
    "count_result = df_traj['c_uli'].value_counts()\n",
    "\n",
    "# 筛选出出现次数≥30的值\n",
    "filtered_result = count_result[count_result >= 30]\n",
    "\n",
    "# 在df_traj中筛选出c_uli列的值在filtered_values中的行\n",
    "df_traj = df_traj[df_traj['c_uli'].isin(filtered_result)]"
   ]
  },
  {
   "cell_type": "code",
   "execution_count": 22,
   "id": "ad318db9-a52e-4040-a1ee-564ffb56045c",
   "metadata": {},
   "outputs": [
    {
     "data": {
      "text/html": [
       "<div>\n",
       "<style scoped>\n",
       "    .dataframe tbody tr th:only-of-type {\n",
       "        vertical-align: middle;\n",
       "    }\n",
       "\n",
       "    .dataframe tbody tr th {\n",
       "        vertical-align: top;\n",
       "    }\n",
       "\n",
       "    .dataframe thead th {\n",
       "        text-align: right;\n",
       "    }\n",
       "</style>\n",
       "<table border=\"1\" class=\"dataframe\">\n",
       "  <thead>\n",
       "    <tr style=\"text-align: right;\">\n",
       "      <th></th>\n",
       "      <th>c_number</th>\n",
       "      <th>c_uli</th>\n",
       "      <th>c_timestamp</th>\n",
       "      <th>c_day</th>\n",
       "    </tr>\n",
       "  </thead>\n",
       "  <tbody>\n",
       "  </tbody>\n",
       "</table>\n",
       "</div>"
      ],
      "text/plain": [
       "Empty DataFrame\n",
       "Columns: [c_number, c_uli, c_timestamp, c_day]\n",
       "Index: []"
      ]
     },
     "execution_count": 22,
     "metadata": {},
     "output_type": "execute_result"
    }
   ],
   "source": [
    "df_traj.head()"
   ]
  },
  {
   "cell_type": "code",
   "execution_count": null,
   "id": "5b28e824-cd03-4940-8ce7-408e1af59234",
   "metadata": {},
   "outputs": [],
   "source": []
  }
 ],
 "metadata": {
  "kernelspec": {
   "display_name": "Python 3 (ipykernel)",
   "language": "python",
   "name": "python3"
  },
  "language_info": {
   "codemirror_mode": {
    "name": "ipython",
    "version": 3
   },
   "file_extension": ".py",
   "mimetype": "text/x-python",
   "name": "python",
   "nbconvert_exporter": "python",
   "pygments_lexer": "ipython3",
   "version": "3.8.10"
  }
 },
 "nbformat": 4,
 "nbformat_minor": 5
}
