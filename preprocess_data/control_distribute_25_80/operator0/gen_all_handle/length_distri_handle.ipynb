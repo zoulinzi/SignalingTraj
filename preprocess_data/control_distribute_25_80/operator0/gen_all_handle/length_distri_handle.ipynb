{
 "cells": [
  {
   "cell_type": "code",
   "execution_count": 1,
   "id": "20598b59-e2d6-4956-b418-faedde1fbd05",
   "metadata": {},
   "outputs": [],
   "source": [
    "import pandas as pd\n",
    "import copy\n",
    "import json\n",
    "# 读取轨迹数据\n",
    "df_traj = pd.read_csv(f'../traj_station_handle/df_0.csv')\n",
    "\n",
    "# 读取uli_index_dict.json数据\n",
    "with open(f'/root/autodl-tmp/data/operator0/extra_file/uli_index_dict.json', 'r', encoding='utf-8') as file:\n",
    "    uli_index_dict = json.load(file)"
   ]
  },
  {
   "cell_type": "code",
   "execution_count": 2,
   "id": "9e85998a-eca5-49cc-915a-a4e6250fbbda",
   "metadata": {},
   "outputs": [],
   "source": [
    "result_dict = {}\n",
    "for _, row in df_traj.iterrows():\n",
    "    trajlen = row['trajlen']\n",
    "    mapped_traj = [uli_index_dict.get(uli, uli) for uli in eval(row['traj'])]\n",
    "    if trajlen not in result_dict:\n",
    "        result_dict[trajlen] = [mapped_traj]\n",
    "    else:\n",
    "        result_dict[trajlen].append(mapped_traj)"
   ]
  },
  {
   "cell_type": "code",
   "execution_count": 4,
   "id": "d91c8685-671b-4464-8c9a-9903bdea5484",
   "metadata": {},
   "outputs": [
    {
     "name": "stdout",
     "output_type": "stream",
     "text": [
      "结果已保存到result.npy文件中。\n"
     ]
    }
   ],
   "source": [
    "import numpy as np\n",
    "\n",
    "# 创建一个长度为200的数组，初始值为0\n",
    "result_list = [0] * 200\n",
    "\n",
    "for key, value in result_dict.items():\n",
    "    if key < 200:\n",
    "        result_list[key] = len(value)\n",
    "\n",
    "# 将列表转换为numpy数组\n",
    "result_array = np.array(result_list)\n",
    "\n",
    "# 保存为npy文件\n",
    "np.save(f'/root/autodl-tmp/data/operator0/gen_all/length_distri', result_array)\n",
    "\n",
    "print(\"结果已保存到result.npy文件中。\")"
   ]
  },
  {
   "cell_type": "code",
   "execution_count": null,
   "id": "fc9180c3-e444-4afe-9e62-e995fcecaa69",
   "metadata": {},
   "outputs": [],
   "source": []
  }
 ],
 "metadata": {
  "kernelspec": {
   "display_name": "Python 3 (ipykernel)",
   "language": "python",
   "name": "python3"
  },
  "language_info": {
   "codemirror_mode": {
    "name": "ipython",
    "version": 3
   },
   "file_extension": ".py",
   "mimetype": "text/x-python",
   "name": "python",
   "nbconvert_exporter": "python",
   "pygments_lexer": "ipython3",
   "version": "3.8.10"
  }
 },
 "nbformat": 4,
 "nbformat_minor": 5
}
