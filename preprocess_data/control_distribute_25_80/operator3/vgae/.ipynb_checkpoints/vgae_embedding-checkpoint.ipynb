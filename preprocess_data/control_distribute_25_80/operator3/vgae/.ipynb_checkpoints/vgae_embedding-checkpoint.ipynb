{
 "cells": [
  {
   "cell_type": "code",
   "execution_count": null,
   "id": "49fa4f53-0ca5-46ea-8ecd-779b98c7b9b3",
   "metadata": {},
   "outputs": [],
   "source": [
    "# original code\n",
    "import torch\n",
    "from tqdm import tqdm\n",
    "from torch_geometric.datasets import Planetoid\n",
    "import torch_geometric.transforms as T\n",
    "from torch_geometric.nn import GCNConv,GATConv\n",
    "from torch_geometric.utils import train_test_split_edges\n",
    "from torch_geometric.nn import VGAE\n",
    "\n",
    "import os\n",
    "os.environ[\"CUDA_LAUNCH_BLOCKING\"] = \"0\"\n",
    "\n",
    "def decode(model,epochs,out_channels,data,device):\n",
    "    num_features = data.num_node_features\n",
    "    x = data.x.to(device)\n",
    "    edge_index = data.edge_index.to(device)\n",
    "    optimizer = torch.optim.Adam(model.parameters(), lr=0.01)\n",
    "    model.train()\n",
    "    loss = 0\n",
    "    for epoch in tqdm(range(1, epochs + 1)): # train\n",
    "        all_loss = []\n",
    "        optimizer.zero_grad()\n",
    "        z = model.encode(x, edge_index)\n",
    "        recon_loss = model.recon_loss(z, edge_index) # how to calculate the loss\n",
    "        loss = recon_loss +20* (1 / data.num_nodes) * model.kl_loss()  # new line\n",
    "        #print(\"all loss is \",float(loss))\n",
    "        all_loss.append(loss)\n",
    "        loss.backward()\n",
    "        if(epoch%10==0):\n",
    "            print(\"epoch is {} and loss is {}\".format(epoch,loss))\n",
    "        optimizer.step()\n",
    "    model.eval()\n",
    "    with torch.no_grad(): # pred\n",
    "        z= model.encode(x, edge_index)\n",
    "        print(\"z\",z)\n",
    "        print(\"z.shape\",z.shape) # torch.Size([42372, 128])\n",
    "    return z\n",
    "\n",
    "class VGAE_gat(torch.nn.Module):\n",
    "    def __init__(self, in_channels, out_channels,heads):\n",
    "        super(VGAE_gat, self).__init__()      \n",
    "        self.conv1 = GATConv(in_channels, out_channels,heads[0]) # cached only for transductive learning\n",
    "        self.conv2 = GATConv(heads[0]*out_channels, out_channels,heads[1]) # cached only for transductive learning\n",
    "        self.conv_mu = GATConv(heads[1]* out_channels, out_channels,heads[2],concat = False)\n",
    "        self.conv_logstd = GATConv(heads[1]* out_channels, out_channels, heads[2],concat =False)\n",
    "    def forward(self, x, edge_index):\n",
    "        x = self.conv1(x, edge_index)\n",
    "        x = self.conv2(x, edge_index)\n",
    "        return self.conv_mu(x, edge_index), self.conv_logstd(x, edge_index)\n",
    "\n",
    "# 数据为边和每条边的特征\n",
    "with open(\"./transitions.txt\") as f:\n",
    "    edges1 = [list(map(int,[line.split()[0],line.split()[1]])) for line in f.readlines()]\n",
    "    # edges2 = [list(map(int,[line.split()[1],line.split()[0]])) for line in f.readlines()]\n",
    "    # edges = edges1+edges2\n",
    "    edges = edges1\n",
    "    # print(len(edges))\n",
    "    # print((edges1))\n",
    "\n",
    "edges = torch.tensor(edges,dtype=torch.long)\n",
    "print(edges.shape)\n",
    "edges = edges.transpose(0,1)\n",
    "print(edges.shape) \n",
    "\n",
    "from torch_geometric.data import Data\n",
    "import numpy as np\n",
    "\n",
    "lac_features = np.load('./lac_feature.npy')\n",
    "\n",
    "\n",
    "device = torch.device('cuda' if torch.cuda.is_available() else 'cpu')\n",
    "# device = torch.device('cpu')\n",
    "\n",
    "out_dims = 64\n",
    "data = Data(x= torch.tensor(lac_features,dtype=torch.float),edge_index=edges) # 修改其中的features\n",
    "\n",
    "num_features = data.num_node_features\n",
    "\n",
    "model = VGAE(VGAE_gat(num_features, out_dims,[2,2,1]))  # new line 修改其中的num_features\n",
    "model = model.to(device)\n",
    "z_gat= decode(model,100,out_dims,data,device) # 修改其中的data"
   ]
  },
  {
   "cell_type": "code",
   "execution_count": null,
   "id": "568cfae4-ecb9-411c-854e-c07f240e0eb2",
   "metadata": {},
   "outputs": [],
   "source": []
  },
  {
   "cell_type": "code",
   "execution_count": 3,
   "id": "e41e5c05-ee82-4d1d-9398-cc792af97119",
   "metadata": {},
   "outputs": [
    {
     "data": {
      "text/plain": [
       "torch.Size([6053, 64])"
      ]
     },
     "execution_count": 3,
     "metadata": {},
     "output_type": "execute_result"
    }
   ],
   "source": [
    "z_gat.shape"
   ]
  },
  {
   "cell_type": "code",
   "execution_count": 13,
   "id": "1d6eba06-cc9c-4f82-8c76-d8bc7c1060c2",
   "metadata": {},
   "outputs": [],
   "source": [
    "# 打开一个文本文件以写入模式\n",
    "with open('output.txt', 'w') as file:\n",
    "    first_line = f\"{z_gat.shape[0]} {z_gat.shape[1]}\\n\"\n",
    "    file.write(first_line)\n",
    "\n",
    "    # 遍历每一行，对每行元素求和后写入\n",
    "    for index, row in enumerate(z_gat):\n",
    "        row_value = \" \".join(str(value.item()) for value in row)\n",
    "        line = f\"{index} {row_value}\\n\"\n",
    "        file.write(line)"
   ]
  },
  {
   "cell_type": "code",
   "execution_count": null,
   "id": "fa86c233-fbd7-4382-8804-625ebf083667",
   "metadata": {},
   "outputs": [],
   "source": []
  }
 ],
 "metadata": {
  "kernelspec": {
   "display_name": "Python 3 (ipykernel)",
   "language": "python",
   "name": "python3"
  },
  "language_info": {
   "codemirror_mode": {
    "name": "ipython",
    "version": 3
   },
   "file_extension": ".py",
   "mimetype": "text/x-python",
   "name": "python",
   "nbconvert_exporter": "python",
   "pygments_lexer": "ipython3",
   "version": "3.8.10"
  }
 },
 "nbformat": 4,
 "nbformat_minor": 5
}
