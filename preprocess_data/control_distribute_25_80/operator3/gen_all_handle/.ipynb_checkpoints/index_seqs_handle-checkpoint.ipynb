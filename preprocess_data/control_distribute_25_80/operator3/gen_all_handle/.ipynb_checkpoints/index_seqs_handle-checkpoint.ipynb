{
 "cells": [
  {
   "cell_type": "code",
   "execution_count": 24,
   "id": "da786bda-40ba-4a2c-b492-7fab068706c3",
   "metadata": {},
   "outputs": [],
   "source": [
    "import pandas as pd\n",
    "import copy\n",
    "import json\n",
    "# 读取轨迹数据\n",
    "df_traj = pd.read_csv(f'../traj_station_handle/df_0.csv')\n",
    "\n",
    "# 读取uli_index_dict.json数据\n",
    "with open(f'/root/autodl-tmp/data/operator0/extra_file/uli_index_dict.json', 'r', encoding='utf-8') as file:\n",
    "    uli_index_dict = json.load(file)"
   ]
  },
  {
   "cell_type": "code",
   "execution_count": 2,
   "id": "67fb682d-c3fd-4d11-932c-435d4f19e647",
   "metadata": {},
   "outputs": [
    {
     "data": {
      "text/html": [
       "<div>\n",
       "<style scoped>\n",
       "    .dataframe tbody tr th:only-of-type {\n",
       "        vertical-align: middle;\n",
       "    }\n",
       "\n",
       "    .dataframe tbody tr th {\n",
       "        vertical-align: top;\n",
       "    }\n",
       "\n",
       "    .dataframe thead th {\n",
       "        text-align: right;\n",
       "    }\n",
       "</style>\n",
       "<table border=\"1\" class=\"dataframe\">\n",
       "  <thead>\n",
       "    <tr style=\"text-align: right;\">\n",
       "      <th></th>\n",
       "      <th>Unnamed: 0</th>\n",
       "      <th>user</th>\n",
       "      <th>day</th>\n",
       "      <th>trajlen</th>\n",
       "      <th>traj</th>\n",
       "      <th>timestamps</th>\n",
       "    </tr>\n",
       "  </thead>\n",
       "  <tbody>\n",
       "    <tr>\n",
       "      <th>0</th>\n",
       "      <td>39</td>\n",
       "      <td>a8341179bb6cc</td>\n",
       "      <td>20241001</td>\n",
       "      <td>32</td>\n",
       "      <td>['0-4-128089867', '0-4-126402305', '0-4-126409...</td>\n",
       "      <td>[1727748066, 1727748085, 1727748198, 172774827...</td>\n",
       "    </tr>\n",
       "    <tr>\n",
       "      <th>1</th>\n",
       "      <td>66</td>\n",
       "      <td>a83411893676c</td>\n",
       "      <td>20241005</td>\n",
       "      <td>31</td>\n",
       "      <td>['0-4-126079489', '0-4-10693890', '0-4-1259274...</td>\n",
       "      <td>[1728104873, 1728104886, 1728104888, 172810489...</td>\n",
       "    </tr>\n",
       "    <tr>\n",
       "      <th>2</th>\n",
       "      <td>112</td>\n",
       "      <td>a834118c36b65</td>\n",
       "      <td>20241003</td>\n",
       "      <td>36</td>\n",
       "      <td>['0-4-132125662', '0-4-17564055', '0-4-1262261...</td>\n",
       "      <td>[1727920865, 1727920876, 1727920878, 172792129...</td>\n",
       "    </tr>\n",
       "    <tr>\n",
       "      <th>3</th>\n",
       "      <td>152</td>\n",
       "      <td>a834118c43a7a</td>\n",
       "      <td>20241006</td>\n",
       "      <td>62</td>\n",
       "      <td>['0-4-132211698', '0-4-17285513', '0-4-1728550...</td>\n",
       "      <td>[1728202111, 1728202263, 1728202310, 172820231...</td>\n",
       "    </tr>\n",
       "    <tr>\n",
       "      <th>4</th>\n",
       "      <td>170</td>\n",
       "      <td>a834118c45c96</td>\n",
       "      <td>20241004</td>\n",
       "      <td>31</td>\n",
       "      <td>['0-4-202709165', '0-4-202709125', '0-4-174882...</td>\n",
       "      <td>[1728039682, 1728039730, 1728039924, 172804008...</td>\n",
       "    </tr>\n",
       "  </tbody>\n",
       "</table>\n",
       "</div>"
      ],
      "text/plain": [
       "   Unnamed: 0           user       day  trajlen  \\\n",
       "0          39  a8341179bb6cc  20241001       32   \n",
       "1          66  a83411893676c  20241005       31   \n",
       "2         112  a834118c36b65  20241003       36   \n",
       "3         152  a834118c43a7a  20241006       62   \n",
       "4         170  a834118c45c96  20241004       31   \n",
       "\n",
       "                                                traj  \\\n",
       "0  ['0-4-128089867', '0-4-126402305', '0-4-126409...   \n",
       "1  ['0-4-126079489', '0-4-10693890', '0-4-1259274...   \n",
       "2  ['0-4-132125662', '0-4-17564055', '0-4-1262261...   \n",
       "3  ['0-4-132211698', '0-4-17285513', '0-4-1728550...   \n",
       "4  ['0-4-202709165', '0-4-202709125', '0-4-174882...   \n",
       "\n",
       "                                          timestamps  \n",
       "0  [1727748066, 1727748085, 1727748198, 172774827...  \n",
       "1  [1728104873, 1728104886, 1728104888, 172810489...  \n",
       "2  [1727920865, 1727920876, 1727920878, 172792129...  \n",
       "3  [1728202111, 1728202263, 1728202310, 172820231...  \n",
       "4  [1728039682, 1728039730, 1728039924, 172804008...  "
      ]
     },
     "execution_count": 2,
     "metadata": {},
     "output_type": "execute_result"
    }
   ],
   "source": [
    "df_traj.head()"
   ]
  },
  {
   "cell_type": "code",
   "execution_count": 27,
   "id": "0f399721-bcfc-42c1-8eeb-440a1071efb0",
   "metadata": {},
   "outputs": [],
   "source": [
    "result_dict = {}\n",
    "for _, row in df_traj.iterrows():\n",
    "    trajlen = row['trajlen']\n",
    "    mapped_traj = [uli_index_dict.get(uli, uli) for uli in eval(row['traj'])]\n",
    "    if trajlen not in result_dict:\n",
    "        result_dict[trajlen] = [mapped_traj]\n",
    "    else:\n",
    "        result_dict[trajlen].append(mapped_traj)"
   ]
  },
  {
   "cell_type": "code",
   "execution_count": 29,
   "id": "5106b1a2-82a6-496b-be2a-7a043c722d96",
   "metadata": {},
   "outputs": [
    {
     "name": "stdout",
     "output_type": "stream",
     "text": [
      "27136\n"
     ]
    }
   ],
   "source": [
    "print(len(result_dict[30]))"
   ]
  },
  {
   "cell_type": "code",
   "execution_count": 32,
   "id": "2c1594b1-5652-4fb4-aeab-97309cae3eb1",
   "metadata": {},
   "outputs": [],
   "source": [
    "import pickle\n",
    "# 保存字典到bin文件\n",
    "with open(f'/root/autodl-tmp/data/operator0/gen_all/index_seqs.bin', 'wb') as file:\n",
    "    pickle.dump(result_dict, file)"
   ]
  },
  {
   "cell_type": "code",
   "execution_count": null,
   "id": "1ba753e7-317b-46e4-80d1-f6a5ebdbbc4b",
   "metadata": {},
   "outputs": [],
   "source": []
  }
 ],
 "metadata": {
  "kernelspec": {
   "display_name": "Python 3 (ipykernel)",
   "language": "python",
   "name": "python3"
  },
  "language_info": {
   "codemirror_mode": {
    "name": "ipython",
    "version": 3
   },
   "file_extension": ".py",
   "mimetype": "text/x-python",
   "name": "python",
   "nbconvert_exporter": "python",
   "pygments_lexer": "ipython3",
   "version": "3.8.10"
  }
 },
 "nbformat": 4,
 "nbformat_minor": 5
}
