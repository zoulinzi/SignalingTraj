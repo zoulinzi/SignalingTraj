{
 "cells": [
  {
   "cell_type": "code",
   "execution_count": 1,
   "id": "da786bda-40ba-4a2c-b492-7fab068706c3",
   "metadata": {},
   "outputs": [],
   "source": [
    "import pandas as pd\n",
    "import copy\n",
    "import json\n",
    "# 读取轨迹数据\n",
    "df_traj = pd.read_csv(f'../traj_station_handle/df_3.csv')\n",
    "\n",
    "# 读取uli_index_dict.json数据\n",
    "with open(f'/root/autodl-tmp/data/operator3/extra_file/uli_index_dict.json', 'r', encoding='utf-8') as file:\n",
    "    uli_index_dict = json.load(file)"
   ]
  },
  {
   "cell_type": "code",
   "execution_count": 2,
   "id": "67fb682d-c3fd-4d11-932c-435d4f19e647",
   "metadata": {},
   "outputs": [
    {
     "data": {
      "text/html": [
       "<div>\n",
       "<style scoped>\n",
       "    .dataframe tbody tr th:only-of-type {\n",
       "        vertical-align: middle;\n",
       "    }\n",
       "\n",
       "    .dataframe tbody tr th {\n",
       "        vertical-align: top;\n",
       "    }\n",
       "\n",
       "    .dataframe thead th {\n",
       "        text-align: right;\n",
       "    }\n",
       "</style>\n",
       "<table border=\"1\" class=\"dataframe\">\n",
       "  <thead>\n",
       "    <tr style=\"text-align: right;\">\n",
       "      <th></th>\n",
       "      <th>Unnamed: 0</th>\n",
       "      <th>user</th>\n",
       "      <th>day</th>\n",
       "      <th>trajlen</th>\n",
       "      <th>traj</th>\n",
       "      <th>timestamps</th>\n",
       "    </tr>\n",
       "  </thead>\n",
       "  <tbody>\n",
       "    <tr>\n",
       "      <th>0</th>\n",
       "      <td>17</td>\n",
       "      <td>a8341153b4c9c</td>\n",
       "      <td>20241007</td>\n",
       "      <td>33</td>\n",
       "      <td>['3-4-261116184', '3-4-50044933', '3-4-1941465...</td>\n",
       "      <td>[1728266569, 1728266581, 1728266633, 172826666...</td>\n",
       "    </tr>\n",
       "    <tr>\n",
       "      <th>1</th>\n",
       "      <td>40</td>\n",
       "      <td>a834118349e95</td>\n",
       "      <td>20241004</td>\n",
       "      <td>31</td>\n",
       "      <td>['3-4-261286169', '3-4-178853377', '3-4-178481...</td>\n",
       "      <td>[1728007305, 1728008102, 1728008140, 172800819...</td>\n",
       "    </tr>\n",
       "    <tr>\n",
       "      <th>2</th>\n",
       "      <td>43</td>\n",
       "      <td>a8341183b468d</td>\n",
       "      <td>20241002</td>\n",
       "      <td>38</td>\n",
       "      <td>['3-4-179270403', '3-4-178706948', '3-4-179032...</td>\n",
       "      <td>[1727861511, 1727861772, 1727861811, 172786182...</td>\n",
       "    </tr>\n",
       "    <tr>\n",
       "      <th>3</th>\n",
       "      <td>62</td>\n",
       "      <td>a8341188577cc</td>\n",
       "      <td>20241007</td>\n",
       "      <td>38</td>\n",
       "      <td>['3-4-261116184', '3-4-188081203', '3-4-178505...</td>\n",
       "      <td>[1728289522, 1728289573, 1728289634, 172828967...</td>\n",
       "    </tr>\n",
       "    <tr>\n",
       "      <th>4</th>\n",
       "      <td>77</td>\n",
       "      <td>a8341189b76bb</td>\n",
       "      <td>20241005</td>\n",
       "      <td>31</td>\n",
       "      <td>['3-4-28465715', '3-4-178860034', '3-4-1941307...</td>\n",
       "      <td>[1728104455, 1728104456, 1728104462, 172810448...</td>\n",
       "    </tr>\n",
       "  </tbody>\n",
       "</table>\n",
       "</div>"
      ],
      "text/plain": [
       "   Unnamed: 0           user       day  trajlen  \\\n",
       "0          17  a8341153b4c9c  20241007       33   \n",
       "1          40  a834118349e95  20241004       31   \n",
       "2          43  a8341183b468d  20241002       38   \n",
       "3          62  a8341188577cc  20241007       38   \n",
       "4          77  a8341189b76bb  20241005       31   \n",
       "\n",
       "                                                traj  \\\n",
       "0  ['3-4-261116184', '3-4-50044933', '3-4-1941465...   \n",
       "1  ['3-4-261286169', '3-4-178853377', '3-4-178481...   \n",
       "2  ['3-4-179270403', '3-4-178706948', '3-4-179032...   \n",
       "3  ['3-4-261116184', '3-4-188081203', '3-4-178505...   \n",
       "4  ['3-4-28465715', '3-4-178860034', '3-4-1941307...   \n",
       "\n",
       "                                          timestamps  \n",
       "0  [1728266569, 1728266581, 1728266633, 172826666...  \n",
       "1  [1728007305, 1728008102, 1728008140, 172800819...  \n",
       "2  [1727861511, 1727861772, 1727861811, 172786182...  \n",
       "3  [1728289522, 1728289573, 1728289634, 172828967...  \n",
       "4  [1728104455, 1728104456, 1728104462, 172810448...  "
      ]
     },
     "execution_count": 2,
     "metadata": {},
     "output_type": "execute_result"
    }
   ],
   "source": [
    "df_traj.head()"
   ]
  },
  {
   "cell_type": "code",
   "execution_count": 3,
   "id": "0f399721-bcfc-42c1-8eeb-440a1071efb0",
   "metadata": {},
   "outputs": [],
   "source": [
    "result_dict = {}\n",
    "for _, row in df_traj.iterrows():\n",
    "    trajlen = row['trajlen']\n",
    "    mapped_traj = [uli_index_dict.get(uli, uli) for uli in eval(row['traj'])]\n",
    "    if trajlen not in result_dict:\n",
    "        result_dict[trajlen] = [mapped_traj]\n",
    "    else:\n",
    "        result_dict[trajlen].append(mapped_traj)"
   ]
  },
  {
   "cell_type": "code",
   "execution_count": 4,
   "id": "5106b1a2-82a6-496b-be2a-7a043c722d96",
   "metadata": {},
   "outputs": [
    {
     "name": "stdout",
     "output_type": "stream",
     "text": [
      "27107\n"
     ]
    }
   ],
   "source": [
    "print(len(result_dict[30]))"
   ]
  },
  {
   "cell_type": "code",
   "execution_count": 5,
   "id": "2c1594b1-5652-4fb4-aeab-97309cae3eb1",
   "metadata": {},
   "outputs": [],
   "source": [
    "import pickle\n",
    "# 保存字典到bin文件\n",
    "with open(f'/root/autodl-tmp/data/operator3/gen_all/index_seqs.bin', 'wb') as file:\n",
    "    pickle.dump(result_dict, file)"
   ]
  },
  {
   "cell_type": "code",
   "execution_count": null,
   "id": "1ba753e7-317b-46e4-80d1-f6a5ebdbbc4b",
   "metadata": {},
   "outputs": [],
   "source": []
  }
 ],
 "metadata": {
  "kernelspec": {
   "display_name": "Python 3 (ipykernel)",
   "language": "python",
   "name": "python3"
  },
  "language_info": {
   "codemirror_mode": {
    "name": "ipython",
    "version": 3
   },
   "file_extension": ".py",
   "mimetype": "text/x-python",
   "name": "python",
   "nbconvert_exporter": "python",
   "pygments_lexer": "ipython3",
   "version": "3.8.10"
  }
 },
 "nbformat": 4,
 "nbformat_minor": 5
}
