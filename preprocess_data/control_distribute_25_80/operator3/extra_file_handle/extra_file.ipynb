{
 "cells": [
  {
   "cell_type": "markdown",
   "id": "6382dcf8-0bfa-4846-9a2a-b781584a9cb0",
   "metadata": {},
   "source": [
    "# 创建uli_index_dict.json"
   ]
  },
  {
   "cell_type": "code",
   "execution_count": 1,
   "id": "0bee79c6-07c0-4c54-90c5-c63a6ef9c4be",
   "metadata": {},
   "outputs": [],
   "source": [
    "import pandas as pd\n",
    "import json\n",
    "# 读取基站数据\n",
    "df_bs = pd.read_csv('../traj_station_handle/station3.csv')\n",
    "\n",
    "# 假设df_bs是你提供的DataFrame\n",
    "uli_index_dict = df_bs['c_uli'].reset_index().set_index('c_uli')['index'].to_dict()\n",
    "\n",
    "# 将字典保存为JSON文件\n",
    "with open(f'/root/autodl-tmp/data/operator3/extra_file/uli_index_dict.json', 'w', encoding='utf-8') as file:\n",
    "    json.dump(uli_index_dict, file, ensure_ascii=False, indent=4)"
   ]
  },
  {
   "cell_type": "markdown",
   "id": "f84cc153-7ea6-4887-ad41-a3af63582d59",
   "metadata": {},
   "source": [
    "# 创建index_uli_dict.json"
   ]
  },
  {
   "cell_type": "code",
   "execution_count": 2,
   "id": "01ed5849-6502-4211-9026-8def533a93f9",
   "metadata": {},
   "outputs": [],
   "source": [
    "import pandas as pd\n",
    "import json\n",
    "# 读取基站数据\n",
    "df_bs = pd.read_csv('../traj_station_handle/station3.csv')\n",
    "\n",
    "# 假设df_bs是你提供的DataFrame\n",
    "index_uli_dict = df_bs['c_uli'].to_dict()\n",
    "# 反转字典，使得键为原来的索引，值为原来的c_uli\n",
    "index_uli_dict = {k: v for k, v in index_uli_dict.items()}\n",
    "\n",
    "# 将字典保存为JSON文件\n",
    "with open(f'/root/autodl-tmp/data/operator3/extra_file/index_uli_dict.json', 'w', encoding='utf-8') as file:\n",
    "    json.dump(index_uli_dict, file, ensure_ascii=False, indent=4)"
   ]
  },
  {
   "cell_type": "markdown",
   "id": "341cd8a5-65f1-4636-a680-c96857862872",
   "metadata": {},
   "source": [
    "# 创建index_areacode_dict.json"
   ]
  },
  {
   "cell_type": "code",
   "execution_count": 3,
   "id": "7974993e-261c-443c-9d98-8d0019f55e81",
   "metadata": {},
   "outputs": [],
   "source": [
    "import pandas as pd\n",
    "import json\n",
    "# 读取基站数据\n",
    "df_bs = pd.read_csv('../traj_station_handle/station3.csv')\n",
    "\n",
    "# 假设df_bs是你提供的DataFrame\n",
    "index_areacode_dict = df_bs['c_areacode'].to_dict()\n",
    "\n",
    "# 将字典保存为JSON文件\n",
    "with open(f'/root/autodl-tmp/data/operator3/extra_file/index_areacode_dict.json', 'w', encoding='utf-8') as file:\n",
    "    json.dump(index_areacode_dict, file, ensure_ascii=False, indent=4)"
   ]
  },
  {
   "cell_type": "code",
   "execution_count": null,
   "id": "094d7b01-5e5f-4bcd-88a2-a7724239bfb4",
   "metadata": {},
   "outputs": [],
   "source": []
  },
  {
   "cell_type": "code",
   "execution_count": null,
   "id": "2c2629e9-a750-414d-8d2e-4053ac67acff",
   "metadata": {},
   "outputs": [],
   "source": []
  }
 ],
 "metadata": {
  "kernelspec": {
   "display_name": "Python 3 (ipykernel)",
   "language": "python",
   "name": "python3"
  },
  "language_info": {
   "codemirror_mode": {
    "name": "ipython",
    "version": 3
   },
   "file_extension": ".py",
   "mimetype": "text/x-python",
   "name": "python",
   "nbconvert_exporter": "python",
   "pygments_lexer": "ipython3",
   "version": "3.8.10"
  }
 },
 "nbformat": 4,
 "nbformat_minor": 5
}
